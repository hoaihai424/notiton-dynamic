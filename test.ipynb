{
 "cells": [
  {
   "cell_type": "code",
   "execution_count": 2,
   "metadata": {},
   "outputs": [],
   "source": [
    "import requests\n",
    "import json\n",
    "import pandas as pd"
   ]
  },
  {
   "cell_type": "code",
   "execution_count": 3,
   "metadata": {},
   "outputs": [],
   "source": [
    "NOTION_API_KEY = \"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\"\n",
    "NOTION_URL = \"https://api.notion.com/v1/pages\"\n",
    "PAGE_ID = \"15b2ec8473e98007885fe7ec343ff6df\"\n",
    "\n",
    "headers = {\n",
    "    \"Authorization\": \"Bearer \" + NOTION_API_KEY,\n",
    "    \"Content-Type\": \"application/json\", \n",
    "    \"Notion-Version\": \"2022-06-28\", \n",
    "}"
   ]
  },
  {
   "cell_type": "markdown",
   "metadata": {},
   "source": [
    "# Page ID : 15b2ec8473e98007885fe7ec343ff6df\n",
    "# DB ID: 15b2ec8473e9800ebac5e2e551a7727d"
   ]
  },
  {
   "cell_type": "code",
   "execution_count": null,
   "metadata": {},
   "outputs": [],
   "source": [
    "#create\n"
   ]
  },
  {
   "cell_type": "code",
   "execution_count": null,
   "metadata": {},
   "outputs": [],
   "source": [
    "#retrieve\n",
    "def read_db():\n",
    "    url = f\"https://api.notion.com/v1/blocks/{PAGE_ID}/children\"\n",
    "    response = requests.get(url, headers=headers)\n",
    "\n",
    "    data = response.json()\n",
    "    result = data[\"results\"]\n",
    "\n",
    "    while data[\"has_more\"]:\n",
    "        next_url = url + f\"?start_cursor={data['next_cursor']}\"\n",
    "        response = requests.get(next_url, headers=headers)\n",
    "        data = response.json()  \n",
    "        result += data[\"results\"]\n",
    "\n",
    "    if result == []: \n",
    "        return None\n",
    "    return result\n",
    "\n",
    "def display_db():\n",
    "    res = read_db()\n",
    "    if res == None:\n",
    "        return None\n",
    "\n",
    "    for i in len(res):\n",
    "        print(res[i][\"child_database\"][\"title\"])\n",
    "\n",
    "def display_customer_data(dbID : str):\n",
    "    url = f\"https://api.notion.com/v1/databases/{dbID}/query\"\n",
    "    response = requests.post(url, headers=headers)\n",
    "\n",
    "    data = response.json()\n",
    "    result = data[\"results\"]\n",
    "\n",
    "    while data[\"has_more\"]:\n",
    "        next_url = url + f\"?start_cursor={data['next_cursor']}\"\n",
    "        response = requests.post(next_url, headers=headers)\n",
    "        data = response.json()  \n",
    "        result += data[\"results\"]\n",
    "    \n",
    "    if result == []:\n",
    "        return None\n",
    "    return result\n",
    "\n",
    "def get_customer_data(customer_ID : str):\n",
    "    res = read_db()\n",
    "    if res == None:\n",
    "        return None\n",
    "\n",
    "    for i in len(res):\n",
    "        if res[i][\"child_database\"][\"title\"] == customer_ID:\n",
    "            return display_customer_data(res[i][\"child_database\"][\"id\"])\n",
    "    \n",
    "    return None\n",
    "\n",
    "    \n",
    "    "
   ]
  },
  {
   "cell_type": "code",
   "execution_count": null,
   "metadata": {},
   "outputs": [],
   "source": [
    "#update"
   ]
  },
  {
   "cell_type": "code",
   "execution_count": null,
   "metadata": {},
   "outputs": [],
   "source": [
    "#delete"
   ]
  },
  {
   "cell_type": "code",
   "execution_count": null,
   "metadata": {},
   "outputs": [],
   "source": [
    "#test"
   ]
  },
  {
   "cell_type": "code",
   "execution_count": 7,
   "metadata": {},
   "outputs": [],
   "source": [
    "url = f\"https://api.notion.com/v1/blocks/{PAGE_ID}/children\"\n",
    "\n",
    "response = requests.get(url, headers=headers)\n",
    "\n",
    "data  = response.json()\n",
    "\n",
    "with open(\"data.json\", \"w\") as f:\n",
    "    json.dump(data, f, indent=4)\n",
    "\n",
    "res = data[\"results\"]\n",
    "\n",
    "while data[\"has_more\"]:\n",
    "    next_url = f\"{url}?start_cursor={data['next_cursor']}\"\n",
    "    response = requests.get(next_url, headers=headers)\n",
    "    data = response.json()\n",
    "    res.extend(data[\"results\"])"
   ]
  }
 ],
 "metadata": {
  "kernelspec": {
   "display_name": "base",
   "language": "python",
   "name": "python3"
  },
  "language_info": {
   "codemirror_mode": {
    "name": "ipython",
    "version": 3
   },
   "file_extension": ".py",
   "mimetype": "text/x-python",
   "name": "python",
   "nbconvert_exporter": "python",
   "pygments_lexer": "ipython3",
   "version": "3.11.5"
  }
 },
 "nbformat": 4,
 "nbformat_minor": 2
}
