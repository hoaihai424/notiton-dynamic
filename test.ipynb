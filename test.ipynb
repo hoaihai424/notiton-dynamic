{
 "cells": [
  {
   "cell_type": "code",
   "execution_count": 2,
   "metadata": {},
   "outputs": [],
   "source": [
    "import requests\n",
    "import json\n",
    "import pandas as pd"
   ]
  },
  {
   "cell_type": "code",
   "execution_count": 3,
   "metadata": {},
   "outputs": [],
   "source": [
    "NOTION_API_KEY = \"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\"\n",
    "NOTION_URL = \"https://api.notion.com/v1/pages\"\n",
    "PAGE_ID = \"15b2ec8473e98007885fe7ec343ff6df\"\n",
    "\n",
    "headers = {\n",
    "    \"Authorization\": \"Bearer \" + NOTION_API_KEY,\n",
    "    \"Content-Type\": \"application/json\", \n",
    "    \"Notion-Version\": \"2022-06-28\", \n",
    "}"
   ]
  },
  {
   "cell_type": "markdown",
   "metadata": {},
   "source": [
    "# Page ID : 15b2ec8473e98007885fe7ec343ff6df\n",
    "# DB ID: 15b2ec8473e9800ebac5e2e551a7727d"
   ]
  },
  {
   "cell_type": "code",
   "execution_count": 28,
   "metadata": {},
   "outputs": [],
   "source": [
    "#helper\n",
    "def data_conversion(data: dict):\n",
    "    response = {}\n",
    "    for x in data:\n",
    "        if data[x][\"type\"] == \"title\":\n",
    "            tmp_data = {\"title\": [{\"text\": {\"content\": data[x][\"value\"]}}]}\n",
    "        elif data[x][\"type\"] == \"number\":\n",
    "            tmp_data = {\"number\": data[x][\"value\"]}\n",
    "        elif data[x][\"type\"] == \"rich_text\":\n",
    "            tmp_data = {\"rich_text\": [{\"text\": {\"content\": data[x][\"value\"]}}]}\n",
    "        elif data[x][\"type\"] == \"date\":\n",
    "            tmp_data = {\"date\": {\"start\": data[x][\"value\"], \"end\": None}}\n",
    "        elif data[x][\"type\"] == \"url\":\n",
    "            tmp_data = {\"url\": data[x][\"value\"]}\n",
    "\n",
    "        response.update({x: tmp_data})\n",
    "    \n",
    "    return {\"properties\": response}\n",
    "\n",
    "data = {\n",
    "    \"name\" : {\n",
    "        \"type\": \"title\",\n",
    "        \"value\": \"hoaihai\"\n",
    "    },\n",
    "    \"age\" : {\n",
    "        \"type\": \"number\",\n",
    "        \"value\": 20\n",
    "    }\n",
    "}\n",
    "\n",
    "output = data_conversion(data)\n",
    "with open(\"output.json\", \"w\") as f:\n",
    "    json.dump(output, f, indent=4)"
   ]
  },
  {
   "cell_type": "code",
   "execution_count": null,
   "metadata": {},
   "outputs": [],
   "source": [
    "#create\n",
    "def create_customer(id:str, data: dict | None = None):\n",
    "    pass"
   ]
  },
  {
   "cell_type": "code",
   "execution_count": null,
   "metadata": {},
   "outputs": [],
   "source": [
    "#retrieve\n",
    "def read_db():\n",
    "    url = f\"https://api.notion.com/v1/blocks/{PAGE_ID}/children\"\n",
    "    response = requests.get(url, headers=headers)\n",
    "\n",
    "    data = response.json()\n",
    "    result = data[\"results\"]\n",
    "\n",
    "    while data[\"has_more\"]:\n",
    "        next_url = url + f\"?start_cursor={data['next_cursor']}\"\n",
    "        response = requests.get(next_url, headers=headers)\n",
    "        data = response.json()  \n",
    "        result += data[\"results\"]\n",
    "\n",
    "    if result == []: \n",
    "        return None\n",
    "    return result\n",
    "\n",
    "def display_db():\n",
    "    res = read_db()\n",
    "    if res == None:\n",
    "        return None\n",
    "\n",
    "    for i in len(res):\n",
    "        print(res[i][\"child_database\"][\"title\"])\n",
    "\n",
    "def display_customer_data(dbID : str):\n",
    "    url = f\"https://api.notion.com/v1/databases/{dbID}/query\"\n",
    "    response = requests.post(url, headers=headers)\n",
    "\n",
    "    data = response.json()\n",
    "    result = data[\"results\"]\n",
    "\n",
    "    while data[\"has_more\"]:\n",
    "        next_url = url + f\"?start_cursor={data['next_cursor']}\"\n",
    "        response = requests.post(next_url, headers=headers)\n",
    "        data = response.json()  \n",
    "        result += data[\"results\"]\n",
    "    \n",
    "    if result == []:\n",
    "        return None\n",
    "    return result\n",
    "\n",
    "def get_customer_data(customer_ID : str):\n",
    "    res = read_db()\n",
    "    if res == None:\n",
    "        return None\n",
    "\n",
    "    for i in len(res):\n",
    "        if res[i][\"child_database\"][\"title\"] == customer_ID:\n",
    "            return display_customer_data(res[i][\"id\"])\n",
    "    \n",
    "    return None\n",
    "\n",
    "    \n",
    "    "
   ]
  },
  {
   "cell_type": "code",
   "execution_count": null,
   "metadata": {},
   "outputs": [],
   "source": [
    "#update\n",
    "def update_customer_db(id : str, data: dict):\n",
    "    url = f\"https://api.notion.com/v1/pages/{id}\"\n",
    "    response = requests.patch(url, headers=headers, data=json.dumps(data))\n",
    "\n",
    "    return response.json()"
   ]
  },
  {
   "cell_type": "code",
   "execution_count": null,
   "metadata": {},
   "outputs": [],
   "source": [
    "#delete\n",
    "def delete_customer_db(id : str):\n",
    "    url = f\"https://api.notion.com/v1/pages/{id}\"\n",
    "    response = requests.delete(url, headers=headers)\n",
    "\n",
    "    return response.json()"
   ]
  },
  {
   "cell_type": "code",
   "execution_count": null,
   "metadata": {},
   "outputs": [],
   "source": [
    "#test"
   ]
  },
  {
   "cell_type": "code",
   "execution_count": 24,
   "metadata": {},
   "outputs": [
    {
     "name": "stdout",
     "output_type": "stream",
     "text": [
      "number\n",
      "url\n",
      "date\n",
      "rich_text\n",
      "title\n"
     ]
    }
   ],
   "source": [
    "url = f\"https://api.notion.com/v1/blocks/{PAGE_ID}/children\"\n",
    "\n",
    "response = requests.get(url, headers=headers)\n",
    "\n",
    "data  = response.json()\n",
    "\n",
    "res = data[\"results\"]\n",
    "\n",
    "while data[\"has_more\"]:\n",
    "    next_url = f\"{url}?start_cursor={data['next_cursor']}\"\n",
    "    response = requests.get(next_url, headers=headers)\n",
    "    data = response.json()\n",
    "    res.extend(data[\"results\"])\n",
    "\n",
    "dbid = res[0][\"id\"]\n",
    "\n",
    "dburl = f\"https://api.notion.com/v1/databases/{dbid}/query\"\n",
    "\n",
    "response2 = requests.post(dburl, headers=headers)\n",
    "\n",
    "data2 = response2.json()\n",
    "\n",
    "with open(\"data.json\", \"w\") as f:\n",
    "    json.dump(data2, f, indent=4)\n",
    "\n",
    "res2 = data2[\"results\"]\n",
    "\n",
    "for x in res2[0][\"properties\"]: \n",
    "    print(res2[0][\"properties\"][x][\"type\"])"
   ]
  }
 ],
 "metadata": {
  "kernelspec": {
   "display_name": "base",
   "language": "python",
   "name": "python3"
  },
  "language_info": {
   "codemirror_mode": {
    "name": "ipython",
    "version": 3
   },
   "file_extension": ".py",
   "mimetype": "text/x-python",
   "name": "python",
   "nbconvert_exporter": "python",
   "pygments_lexer": "ipython3",
   "version": "3.11.5"
  }
 },
 "nbformat": 4,
 "nbformat_minor": 2
}
